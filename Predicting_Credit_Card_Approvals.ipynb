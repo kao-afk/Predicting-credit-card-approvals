{
  "nbformat": 4,
  "nbformat_minor": 0,
  "metadata": {
    "kernelspec": {
      "language": "python",
      "name": "python3",
      "display_name": "Python 3"
    },
    "language_info": {
      "codemirror_mode": {
        "version": 3,
        "name": "ipython"
      },
      "file_extension": ".py",
      "nbconvert_exporter": "python",
      "pygments_lexer": "ipython3",
      "version": "3.5.2",
      "name": "python",
      "mimetype": "text/x-python"
    },
    "colab": {
      "name": "Predicting Credit Card Approvals.ipynb",
      "provenance": []
    }
  },
  "cells": [
    {
      "cell_type": "code",
      "metadata": {
        "tags": [
          "sample_code"
        ],
        "trusted": true,
        "dc": {
          "key": "3"
        },
        "id": "w5YhVMEVyRrl",
        "colab_type": "code",
        "colab": {
          "base_uri": "https://localhost:8080/",
          "height": 117
        },
        "outputId": "5e515e53-3ff8-4eab-8f13-80f4f5a1a0a2"
      },
      "source": [
        "# Import pandas\n",
        "import pandas as pd\n",
        "# Load dataset\n",
        "cc_apps = pd.read_csv(\"/content/cc_approvals.data\", header=None)\n",
        "\n",
        "# Inspecting data\n",
        "print(cc_apps.head(5))"
      ],
      "execution_count": 3,
      "outputs": [
        {
          "output_type": "stream",
          "text": [
            "  0      1      2  3  4  5  6     7  8  9   10 11 12     13   14 15\n",
            "0  b  30.83  0.000  u  g  w  v  1.25  t  t   1  f  g  00202    0  +\n",
            "1  a  58.67  4.460  u  g  q  h  3.04  t  t   6  f  g  00043  560  +\n",
            "2  a  24.50  0.500  u  g  q  h  1.50  t  f   0  f  g  00280  824  +\n",
            "3  b  27.83  1.540  u  g  w  v  3.75  t  t   5  t  g  00100    3  +\n",
            "4  b  20.17  5.625  u  g  w  v  1.71  t  f   0  f  s  00120    0  +\n"
          ],
          "name": "stdout"
        }
      ]
    },
    {
      "cell_type": "code",
      "metadata": {
        "tags": [
          "sample_code"
        ],
        "scrolled": false,
        "dc": {
          "key": "10"
        },
        "trusted": true,
        "id": "838m6qujyRr4",
        "colab_type": "code",
        "colab": {},
        "outputId": "c8606788-fa5e-4be6-e10d-d34f163c37b0"
      },
      "source": [
        "# Print summary statistics\n",
        "cc_apps_description = cc_apps.describe()\n",
        "print(cc_apps_description)\n",
        "\n",
        "print(\"\\n\")\n",
        "\n",
        "# Print DataFrame information\n",
        "cc_apps_info = cc_apps.info()\n",
        "print(cc_apps_info)\n",
        "\n",
        "print(\"\\n\")\n",
        "\n",
        "# Inspect missing values in the dataset\n",
        "print(cc_apps.tail(17))\n"
      ],
      "execution_count": null,
      "outputs": [
        {
          "output_type": "stream",
          "text": [
            "               2           7          10             14\n",
            "count  690.000000  690.000000  690.00000     690.000000\n",
            "mean     4.758725    2.223406    2.40000    1017.385507\n",
            "std      4.978163    3.346513    4.86294    5210.102598\n",
            "min      0.000000    0.000000    0.00000       0.000000\n",
            "25%      1.000000    0.165000    0.00000       0.000000\n",
            "50%      2.750000    1.000000    0.00000       5.000000\n",
            "75%      7.207500    2.625000    3.00000     395.500000\n",
            "max     28.000000   28.500000   67.00000  100000.000000\n",
            "\n",
            "\n",
            "<class 'pandas.core.frame.DataFrame'>\n",
            "RangeIndex: 690 entries, 0 to 689\n",
            "Data columns (total 16 columns):\n",
            "0     690 non-null object\n",
            "1     690 non-null object\n",
            "2     690 non-null float64\n",
            "3     690 non-null object\n",
            "4     690 non-null object\n",
            "5     690 non-null object\n",
            "6     690 non-null object\n",
            "7     690 non-null float64\n",
            "8     690 non-null object\n",
            "9     690 non-null object\n",
            "10    690 non-null int64\n",
            "11    690 non-null object\n",
            "12    690 non-null object\n",
            "13    690 non-null object\n",
            "14    690 non-null int64\n",
            "15    690 non-null object\n",
            "dtypes: float64(2), int64(2), object(12)\n",
            "memory usage: 86.3+ KB\n",
            "None\n",
            "\n",
            "\n",
            "    0      1       2  3  4   5   6      7  8  9   10 11 12     13   14 15\n",
            "673  ?  29.50   2.000  y  p   e   h  2.000  f  f   0  f  g  00256   17  -\n",
            "674  a  37.33   2.500  u  g   i   h  0.210  f  f   0  f  g  00260  246  -\n",
            "675  a  41.58   1.040  u  g  aa   v  0.665  f  f   0  f  g  00240  237  -\n",
            "676  a  30.58  10.665  u  g   q   h  0.085  f  t  12  t  g  00129    3  -\n",
            "677  b  19.42   7.250  u  g   m   v  0.040  f  t   1  f  g  00100    1  -\n",
            "678  a  17.92  10.210  u  g  ff  ff  0.000  f  f   0  f  g  00000   50  -\n",
            "679  a  20.08   1.250  u  g   c   v  0.000  f  f   0  f  g  00000    0  -\n",
            "680  b  19.50   0.290  u  g   k   v  0.290  f  f   0  f  g  00280  364  -\n",
            "681  b  27.83   1.000  y  p   d   h  3.000  f  f   0  f  g  00176  537  -\n",
            "682  b  17.08   3.290  u  g   i   v  0.335  f  f   0  t  g  00140    2  -\n",
            "683  b  36.42   0.750  y  p   d   v  0.585  f  f   0  f  g  00240    3  -\n",
            "684  b  40.58   3.290  u  g   m   v  3.500  f  f   0  t  s  00400    0  -\n",
            "685  b  21.08  10.085  y  p   e   h  1.250  f  f   0  f  g  00260    0  -\n",
            "686  a  22.67   0.750  u  g   c   v  2.000  f  t   2  t  g  00200  394  -\n",
            "687  a  25.25  13.500  y  p  ff  ff  2.000  f  t   1  t  g  00200    1  -\n",
            "688  b  17.92   0.205  u  g  aa   v  0.040  f  f   0  f  g  00280  750  -\n",
            "689  b  35.00   3.375  u  g   c   h  8.290  f  f   0  t  g  00000    0  -\n"
          ],
          "name": "stdout"
        }
      ]
    },
    {
      "cell_type": "code",
      "metadata": {
        "tags": [
          "sample_code"
        ],
        "trusted": true,
        "dc": {
          "key": "17"
        },
        "id": "WDzO5uqdyRsD",
        "colab_type": "code",
        "colab": {},
        "outputId": "b1c089f1-d698-40af-afe3-d8537952fdf3"
      },
      "source": [
        "# Import numpy\n",
        "import numpy as np\n",
        "\n",
        "# Inspect missing values in the dataset\n",
        "print(cc_apps.tail(17))\n",
        "\n",
        "# Replace the '?'s with NaN\n",
        "cc_apps = cc_apps.replace(\"?\", np.NaN)\n",
        "\n",
        "# Inspect the missing values again\n",
        "print(cc_apps.tail(17))"
      ],
      "execution_count": null,
      "outputs": [
        {
          "output_type": "stream",
          "text": [
            "    0      1       2  3  4   5   6      7  8  9   10 11 12     13   14 15\n",
            "673  ?  29.50   2.000  y  p   e   h  2.000  f  f   0  f  g  00256   17  -\n",
            "674  a  37.33   2.500  u  g   i   h  0.210  f  f   0  f  g  00260  246  -\n",
            "675  a  41.58   1.040  u  g  aa   v  0.665  f  f   0  f  g  00240  237  -\n",
            "676  a  30.58  10.665  u  g   q   h  0.085  f  t  12  t  g  00129    3  -\n",
            "677  b  19.42   7.250  u  g   m   v  0.040  f  t   1  f  g  00100    1  -\n",
            "678  a  17.92  10.210  u  g  ff  ff  0.000  f  f   0  f  g  00000   50  -\n",
            "679  a  20.08   1.250  u  g   c   v  0.000  f  f   0  f  g  00000    0  -\n",
            "680  b  19.50   0.290  u  g   k   v  0.290  f  f   0  f  g  00280  364  -\n",
            "681  b  27.83   1.000  y  p   d   h  3.000  f  f   0  f  g  00176  537  -\n",
            "682  b  17.08   3.290  u  g   i   v  0.335  f  f   0  t  g  00140    2  -\n",
            "683  b  36.42   0.750  y  p   d   v  0.585  f  f   0  f  g  00240    3  -\n",
            "684  b  40.58   3.290  u  g   m   v  3.500  f  f   0  t  s  00400    0  -\n",
            "685  b  21.08  10.085  y  p   e   h  1.250  f  f   0  f  g  00260    0  -\n",
            "686  a  22.67   0.750  u  g   c   v  2.000  f  t   2  t  g  00200  394  -\n",
            "687  a  25.25  13.500  y  p  ff  ff  2.000  f  t   1  t  g  00200    1  -\n",
            "688  b  17.92   0.205  u  g  aa   v  0.040  f  f   0  f  g  00280  750  -\n",
            "689  b  35.00   3.375  u  g   c   h  8.290  f  f   0  t  g  00000    0  -\n",
            "      0      1       2  3  4   5   6      7  8  9   10 11 12     13   14 15\n",
            "673  NaN  29.50   2.000  y  p   e   h  2.000  f  f   0  f  g  00256   17  -\n",
            "674    a  37.33   2.500  u  g   i   h  0.210  f  f   0  f  g  00260  246  -\n",
            "675    a  41.58   1.040  u  g  aa   v  0.665  f  f   0  f  g  00240  237  -\n",
            "676    a  30.58  10.665  u  g   q   h  0.085  f  t  12  t  g  00129    3  -\n",
            "677    b  19.42   7.250  u  g   m   v  0.040  f  t   1  f  g  00100    1  -\n",
            "678    a  17.92  10.210  u  g  ff  ff  0.000  f  f   0  f  g  00000   50  -\n",
            "679    a  20.08   1.250  u  g   c   v  0.000  f  f   0  f  g  00000    0  -\n",
            "680    b  19.50   0.290  u  g   k   v  0.290  f  f   0  f  g  00280  364  -\n",
            "681    b  27.83   1.000  y  p   d   h  3.000  f  f   0  f  g  00176  537  -\n",
            "682    b  17.08   3.290  u  g   i   v  0.335  f  f   0  t  g  00140    2  -\n",
            "683    b  36.42   0.750  y  p   d   v  0.585  f  f   0  f  g  00240    3  -\n",
            "684    b  40.58   3.290  u  g   m   v  3.500  f  f   0  t  s  00400    0  -\n",
            "685    b  21.08  10.085  y  p   e   h  1.250  f  f   0  f  g  00260    0  -\n",
            "686    a  22.67   0.750  u  g   c   v  2.000  f  t   2  t  g  00200  394  -\n",
            "687    a  25.25  13.500  y  p  ff  ff  2.000  f  t   1  t  g  00200    1  -\n",
            "688    b  17.92   0.205  u  g  aa   v  0.040  f  f   0  f  g  00280  750  -\n",
            "689    b  35.00   3.375  u  g   c   h  8.290  f  f   0  t  g  00000    0  -\n"
          ],
          "name": "stdout"
        }
      ]
    },
    {
      "cell_type": "code",
      "metadata": {
        "tags": [
          "sample_code"
        ],
        "trusted": true,
        "dc": {
          "key": "24"
        },
        "id": "LOzUpE_OyRsP",
        "colab_type": "code",
        "colab": {},
        "outputId": "504fe8f9-fc8b-4aae-a245-146050cc5b7a"
      },
      "source": [
        "# Impute the missing values with mean imputation\n",
        "cc_apps.fillna(cc_apps.mean(), inplace=True)\n",
        "\n",
        "# Count the number of NaNs in the dataset to verify\n",
        "sum(cc_apps.isnull())"
      ],
      "execution_count": null,
      "outputs": [
        {
          "output_type": "execute_result",
          "data": {
            "text/plain": [
              "120"
            ]
          },
          "metadata": {
            "tags": []
          },
          "execution_count": 8
        }
      ]
    },
    {
      "cell_type": "code",
      "metadata": {
        "tags": [
          "sample_code"
        ],
        "trusted": true,
        "dc": {
          "key": "31"
        },
        "id": "BsfvVrUUyRsd",
        "colab_type": "code",
        "colab": {},
        "outputId": "53c41672-9343-4cc9-a61c-4485c0e2ac1d"
      },
      "source": [
        "# Iterate over each column of cc_apps\n",
        "for col in cc_apps.columns:\n",
        "    # Check if the column is of object type\n",
        "    if cc_apps[col].dtypes == 'object':\n",
        "        # Impute with the most frequent value\n",
        "        cc_apps = cc_apps.fillna(cc_apps[col].value_counts().index[0])\n",
        "\n",
        "# Count the number of NaNs in the dataset and print the counts to verify\n",
        "print(cc_apps.isna().sum())"
      ],
      "execution_count": null,
      "outputs": [
        {
          "output_type": "stream",
          "text": [
            "0     0\n",
            "1     0\n",
            "2     0\n",
            "3     0\n",
            "4     0\n",
            "5     0\n",
            "6     0\n",
            "7     0\n",
            "8     0\n",
            "9     0\n",
            "10    0\n",
            "11    0\n",
            "12    0\n",
            "13    0\n",
            "14    0\n",
            "15    0\n",
            "dtype: int64\n"
          ],
          "name": "stdout"
        }
      ]
    },
    {
      "cell_type": "code",
      "metadata": {
        "tags": [
          "sample_code"
        ],
        "trusted": true,
        "dc": {
          "key": "38"
        },
        "id": "tmIAiFxmyRst",
        "colab_type": "code",
        "colab": {}
      },
      "source": [
        "# Import LabelEncoder\n",
        "from sklearn.preprocessing import LabelEncoder\n",
        "# Instantiate LabelEncoder\n",
        "le=LabelEncoder()\n",
        "\n",
        "# Iterate over all the values of each column and extract their dtypes\n",
        "for col in cc_apps.columns:\n",
        "    # Compare if the dtype is object\n",
        "    if cc_apps[col].dtypes=='object':\n",
        "    # Use LabelEncoder to do the numeric transformation\n",
        "        cc_apps[col]=le.fit_transform(cc_apps[col])"
      ],
      "execution_count": null,
      "outputs": []
    },
    {
      "cell_type": "code",
      "metadata": {
        "tags": [
          "sample_code"
        ],
        "dc": {
          "key": "45"
        },
        "trusted": true,
        "id": "KJy2VBU5yRs8",
        "colab_type": "code",
        "colab": {}
      },
      "source": [
        "# Import train_test_split\n",
        "from sklearn.model_selection import train_test_split\n",
        "# Drop the features 11 and 13 and convert the DataFrame to a NumPy array\n",
        "cc_apps = cc_apps.drop([11, 13], axis=1)\n",
        "cc_apps = cc_apps.values\n",
        "\n",
        "# Segregate features and labels into separate variables\n",
        "X,y = cc_apps[:,0:12] , cc_apps[:,13]\n",
        "\n",
        "# Split into train and test sets\n",
        "X_train, X_test, y_train, y_test = train_test_split(X,\n",
        "                                y,\n",
        "                                test_size=0.33,\n",
        "                                random_state=42)"
      ],
      "execution_count": null,
      "outputs": []
    },
    {
      "cell_type": "code",
      "metadata": {
        "tags": [
          "sample_code"
        ],
        "trusted": true,
        "dc": {
          "key": "52"
        },
        "id": "AeE3sTLkyRtL",
        "colab_type": "code",
        "colab": {}
      },
      "source": [
        "# Import MinMaxScaler\n",
        "from sklearn.preprocessing import MinMaxScaler\n",
        "\n",
        "# Instantiate MinMaxScaler and use it to rescale X_train and X_test\n",
        "scaler = MinMaxScaler(feature_range=(0, 1))\n",
        "# X_train.head()\n",
        "rescaledX_train = scaler.fit_transform(X_train)\n",
        "rescaledX_test = scaler.fit_transform(X_test)"
      ],
      "execution_count": null,
      "outputs": []
    },
    {
      "cell_type": "code",
      "metadata": {
        "tags": [
          "sample_code"
        ],
        "trusted": true,
        "dc": {
          "key": "59"
        },
        "id": "7n51lLUuyRta",
        "colab_type": "code",
        "colab": {},
        "outputId": "93092aeb-b5c0-4e6c-9a4d-cd4676cfdaa4"
      },
      "source": [
        "# Import LogisticRegression\n",
        "from sklearn.linear_model import LogisticRegression\n",
        "# Instantiate a LogisticRegression classifier with default parameter values\n",
        "logreg = LogisticRegression()\n",
        "\n",
        "# Fit logreg to the train set\n",
        "logreg.fit(rescaledX_train,y_train)\n"
      ],
      "execution_count": null,
      "outputs": [
        {
          "output_type": "execute_result",
          "data": {
            "text/plain": [
              "LogisticRegression(C=1.0, class_weight=None, dual=False, fit_intercept=True,\n",
              "          intercept_scaling=1, max_iter=100, multi_class='ovr', n_jobs=1,\n",
              "          penalty='l2', random_state=None, solver='liblinear', tol=0.0001,\n",
              "          verbose=0, warm_start=False)"
            ]
          },
          "metadata": {
            "tags": []
          },
          "execution_count": 18
        }
      ]
    },
    {
      "cell_type": "code",
      "metadata": {
        "tags": [
          "sample_code"
        ],
        "trusted": true,
        "dc": {
          "key": "66"
        },
        "id": "-I66Vak-yRtm",
        "colab_type": "code",
        "colab": {},
        "outputId": "2ae2e1e2-19a0-492c-eaa8-359a026db96d"
      },
      "source": [
        "# Import confusion_matrix\n",
        "from sklearn.metrics import confusion_matrix\n",
        "# Use logreg to predict instances from the test set and store it\n",
        "y_pred = logreg.predict(rescaledX_test)\n",
        "\n",
        "# Get the accuracy score of logreg model and print it\n",
        "print(\"Accuracy of logistic regression classifier: \", logreg.score(rescaledX_test,y_test))\n",
        "\n",
        "# Print the confusion matrix of the logreg model\n",
        "print(confusion_matrix(y_pred, y_test))"
      ],
      "execution_count": null,
      "outputs": [
        {
          "output_type": "stream",
          "text": [
            "Accuracy of logistic regression classifier:  0.8377192982456141\n",
            "[[92 26]\n",
            " [11 99]]\n"
          ],
          "name": "stdout"
        }
      ]
    },
    {
      "cell_type": "code",
      "metadata": {
        "tags": [
          "sample_code"
        ],
        "trusted": true,
        "dc": {
          "key": "73"
        },
        "id": "VPZvvt7PyRtz",
        "colab_type": "code",
        "colab": {}
      },
      "source": [
        "# Import GridSearchCV\n",
        "from sklearn.model_selection import GridSearchCV\n",
        "# Define the grid of values for tol and max_iter\n",
        "tol = [0.01,0.001,0.0001]\n",
        "max_iter = [100,150, 200]\n",
        "\n",
        "# Create a dictionary where tol and max_iter are keys and the lists of their values are corresponding values\n",
        "param_grid = dict([('tol', tol), ('max_iter', max_iter)])"
      ],
      "execution_count": null,
      "outputs": []
    },
    {
      "cell_type": "code",
      "metadata": {
        "tags": [
          "sample_code"
        ],
        "trusted": true,
        "dc": {
          "key": "80"
        },
        "id": "m_I4DRwHyRuB",
        "colab_type": "code",
        "colab": {},
        "outputId": "2387e4dc-c294-4def-dfdf-1214d447e3f6"
      },
      "source": [
        "# Instantiate GridSearchCV with the required parameters\n",
        "grid_model = GridSearchCV(estimator=logreg, param_grid=param_grid, cv=5)\n",
        "\n",
        "# Use scaler to rescale X and assign it to rescaledX\n",
        "rescaledX = scaler.fit_transform(X)\n",
        "\n",
        "# Fit data to grid_model\n",
        "grid_model_result = grid_model.fit(rescaledX, y)\n",
        "\n",
        "# Summarize results\n",
        "\n",
        "best_score, best_params = grid_model_result.best_score_,grid_model_result.best_params_\n",
        "print(\"Best: %f using %s\" % (best_score, best_params))"
      ],
      "execution_count": null,
      "outputs": [
        {
          "output_type": "stream",
          "text": [
            "Best: 0.852174 using {'tol': 0.01, 'max_iter': 100}\n"
          ],
          "name": "stdout"
        }
      ]
    }
  ]
}